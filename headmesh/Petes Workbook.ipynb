{
 "cells": [
  {
   "cell_type": "markdown",
   "metadata": {},
   "source": [
    "# Pete's workbook\n",
    "\n",
    "An early attempt to replicate Pete's work by cut/pasting each piece of the puzzle as I worked out what it did.\n"
   ]
  },
  {
   "cell_type": "code",
   "execution_count": 21,
   "metadata": {
    "collapsed": true
   },
   "outputs": [],
   "source": [
    "import csv\n",
    "from deap import gp\n",
    "from deap import base\n",
    "import numpy as np\n",
    "from PIL import Image as im\n",
    "\n",
    "import IPython.display"
   ]
  },
  {
   "cell_type": "markdown",
   "metadata": {},
   "source": [
    "# Load the image, vertices, and edges"
   ]
  },
  {
   "cell_type": "code",
   "execution_count": 3,
   "metadata": {
    "collapsed": true
   },
   "outputs": [],
   "source": [
    "\"\"\"\n",
    "Setup the inputs\n",
    "\"\"\"\n",
    "\n",
    "def image2array(img):\n",
    "    \"\"\"Convert a bmp image to a numpy array\"\"\"    \n",
    "    return np.reshape(\n",
    "        np.fromstring(img.tostring(), np.uint8),\n",
    "        img.size\n",
    "    )\n",
    "\n",
    "# Dunno, the orientation of the head I suppose\n",
    "# but does it need to be an array of 3 arrays?\n",
    "headpose = np.array([[0],[0],[0]])\n",
    "\n",
    "# load the photo and just copy it\n",
    "# well, that's obviously flawed, but we can run with it\n",
    "imageBmp = im.open('HeadMash.0004.bmp','r')\n",
    "imageGrey = image2array(imageBmp)\n",
    "imageRed = image2array(imageBmp)\n",
    "imageGreen = image2array(imageBmp)\n",
    "imageBlue = image2array(imageBmp)"
   ]
  },
  {
   "cell_type": "code",
   "execution_count": 28,
   "metadata": {
    "collapsed": false
   },
   "outputs": [
    {
     "name": "stdout",
     "output_type": "stream",
     "text": [
      "Headpose\n",
      "[[0]\n",
      " [0]\n",
      " [0]]\n",
      "\n",
      "imageGrey\n",
      "[[176 176 176 ..., 176 176 176]\n",
      " [176 176 176 ..., 176 176 176]\n",
      " [176 176 176 ..., 176 176 176]\n",
      " ..., \n",
      " [176 176 176 ..., 176 176 176]\n",
      " [176 176 176 ..., 176 176 176]\n",
      " [176 176 176 ..., 176 176 176]]\n",
      "\n"
     ]
    }
   ],
   "source": [
    "print(\"Headpose\\n%s\\n\" % headpose)\n",
    "print(\"imageGrey\\n%s\\n\" % imageGrey)"
   ]
  },
  {
   "cell_type": "code",
   "execution_count": 14,
   "metadata": {
    "collapsed": true
   },
   "outputs": [],
   "source": [
    "\"\"\"\n",
    "Load Vertices\n",
    "\"\"\"\n",
    "def loadVertices(inFileName):\n",
    "    ''' Load a csv file and return an array containing the contents of that file\n",
    "    File format is tab-separated as follows:\n",
    "    Vertex Number   X   Y   Z\n",
    "    The file contains a header row.\n",
    "    Param: string containing filename (and path if not in pwd)\n",
    "    Returns: a numpy array of the format\n",
    "    [[<vertex numbers>, ...],\n",
    "     [<X>, ...             ],\n",
    "     [<Y>, ...             ],\n",
    "     [<Z>, ...             ]]\n",
    "    '''\n",
    "    inFile = open(inFileName,'r')\n",
    "    lines = csv.reader(inFile, delimiter = '\\t')\n",
    "    lines.__next__() #skip first row\n",
    "    vArray = np.array([])\n",
    "    for line in lines:\n",
    "        vArray = np.append(vArray,line,1)\n",
    "    vArray = np.transpose(vArray.reshape(-1,4)) #-1 means as many \n",
    "                                                #   along that dimension\n",
    "    inFile.close()\n",
    "    return vArray\n",
    "\n",
    "inputVertices = loadVertices('HeadVertices.txt')\n",
    "correctVertices = loadVertices('HeadVertices_Morphed1.txt')"
   ]
  },
  {
   "cell_type": "code",
   "execution_count": 30,
   "metadata": {
    "collapsed": false
   },
   "outputs": [
    {
     "name": "stdout",
     "output_type": "stream",
     "text": [
      "Input Vertices\n",
      "[['0' '1' '2' ..., '1022' '1023' '1024']\n",
      " ['-1.582673907' '-2.166256666' '-0.601602912' ..., '5.173283577'\n",
      "  '5.316221714' '5.340438366']\n",
      " ['-1.606490612' '-2.420493126' '0.328765899' ..., '2.107531071'\n",
      "  '2.235919237' '2.378057957']\n",
      " ['12.47820187' '12.19763851' '13.6113348' ..., '8.850431442' '8.913328171'\n",
      "  '8.889061928']]\n",
      "\n",
      "Correct Vertices\n",
      "[['0' '1' '2' ..., '1022' '1023' '1024']\n",
      " ['-1.825810432' '-2.251408577' '-0.611650229' ..., '5.291444302'\n",
      "  '5.437007904' '5.460346222']\n",
      " ['-1.687817574' '-2.713670492' '0.498611242' ..., '2.092083931'\n",
      "  '2.218451738' '2.36114192']\n",
      " ['12.52387047' '12.21563625' '13.8481741' ..., '8.881346703' '8.94828701'\n",
      "  '8.922917366']]\n",
      "\n"
     ]
    }
   ],
   "source": [
    "print(\"Input Vertices\\n%s\\n\" % inputVertices)\n",
    "print(\"Correct Vertices\\n%s\\n\" % correctVertices)"
   ]
  },
  {
   "cell_type": "code",
   "execution_count": 17,
   "metadata": {
    "collapsed": true
   },
   "outputs": [],
   "source": [
    "\"\"\"\n",
    "Load Edges\n",
    "\"\"\"\n",
    "def loadEdges(inFileName):\n",
    "    ''' Load a csv file and return an array containing the contents of that file\n",
    "    File format is tab-separated as follows:\n",
    "    EdgeNumber   VertexA   VertexB\n",
    "    The file contains a header row.\n",
    "    Param: string containing filename (and path if not in pwd)\n",
    "    Returns: a numpy array of the format\n",
    "    [[<edge number>, ...],\n",
    "     [<vertexA>, ...    ],\n",
    "     [<vertexB>, ...    ]]\n",
    "    '''\n",
    "    inFile = open(inFileName,'r')\n",
    "    lines = csv.reader(inFile, delimiter = '\\t')\n",
    "    lines.__next__() #skip first row\n",
    "    vArray = np.array([])\n",
    "    for line in lines:\n",
    "        vArray = np.append(vArray,line,0)\n",
    "    inFile.close()\n",
    "    vArray = np.transpose(vArray.reshape(-1,3)) #-1 means as many as needed\n",
    "                                                #   along that dimension\n",
    "    inFile.close()\n",
    "    return vArray\n",
    "\n",
    "inputEdges = loadEdges('HeadEdge.txt')"
   ]
  },
  {
   "cell_type": "code",
   "execution_count": 31,
   "metadata": {
    "collapsed": false
   },
   "outputs": [
    {
     "name": "stdout",
     "output_type": "stream",
     "text": [
      "Input Edges\n",
      "[['0' '1' '2' ..., '2026' '2027' '2028']\n",
      " ['63' '62' '75' ..., '67' '71' '599']\n",
      " ['62' '75' '74' ..., '72' '68' '597']]\n",
      "\n"
     ]
    }
   ],
   "source": [
    "print(\"Input Edges\\n%s\\n\" % inputEdges)"
   ]
  },
  {
   "cell_type": "markdown",
   "metadata": {},
   "source": [
    "# Set up the genetic program"
   ]
  },
  {
   "cell_type": "code",
   "execution_count": 2,
   "metadata": {
    "collapsed": true
   },
   "outputs": [],
   "source": [
    "\"\"\"\n",
    "Define a population set\n",
    "    The 'in_types' are:\n",
    "        boolean (orthographic=True|perspective=False)\n",
    "        ndarray (head pose 3-1)\n",
    "        ndarray (grey image 256-256)\n",
    "        ndarray (red image 256-256)\n",
    "        ndarray (green image 256-256)\n",
    "        ndarray (blue image 256-256)\n",
    "        ndarray (indexed list of vertices 4-n)\n",
    "        ndarray (indexed list of edges 3-n)\n",
    "\"\"\"\n",
    "pset = gp.PrimitiveSetTyped(\n",
    "    name = \"main\", \n",
    "    in_types = [bool, np.ndarray, np.ndarray, np.ndarray, np.ndarray, np.ndarray, np.ndarray, np.ndarray], \n",
    "    ret_type = np.ndarray\n",
    ")"
   ]
  },
  {
   "cell_type": "code",
   "execution_count": 22,
   "metadata": {
    "collapsed": true
   },
   "outputs": [],
   "source": [
    "\"\"\"\n",
    "Set Up Genetic Programming\n",
    "\"\"\"\n",
    "toolbox = base.Toolbox()"
   ]
  },
  {
   "cell_type": "code",
   "execution_count": null,
   "metadata": {
    "collapsed": true
   },
   "outputs": [],
   "source": []
  }
 ],
 "metadata": {
  "kernelspec": {
   "display_name": "Python 3",
   "language": "python",
   "name": "python3"
  },
  "language_info": {
   "codemirror_mode": {
    "name": "ipython",
    "version": 3
   },
   "file_extension": ".py",
   "mimetype": "text/x-python",
   "name": "python",
   "nbconvert_exporter": "python",
   "pygments_lexer": "ipython3",
   "version": "3.4.1"
  }
 },
 "nbformat": 4,
 "nbformat_minor": 0
}
