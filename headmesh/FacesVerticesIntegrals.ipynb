{
 "cells": [
  {
   "cell_type": "code",
   "execution_count": 1,
   "metadata": {
    "collapsed": true
   },
   "outputs": [],
   "source": [
    "import math\n",
    "import warnings\n",
    "import numpy as np"
   ]
  },
  {
   "cell_type": "code",
   "execution_count": 2,
   "metadata": {
    "collapsed": false
   },
   "outputs": [],
   "source": [
    "def f(A, B, V, t):\n",
    "    PQx = V.x - (A.x + ((B.x - A.x) * t))\n",
    "    PQy = V.y - (A.y + ((B.y - A.y) * t))\n",
    "    PQz = 0\n",
    "    PQ = [PQx, PQy, PQz]\n",
    "    AB = [\n",
    "        B.x - A.x,\n",
    "        B.y - A.y,\n",
    "        B.z - A.z\n",
    "    ]\n",
    "    magnitudePQ = math.sqrt(PQx ** 2.0 + PQy ** 2.0 + PQz ** 2.0)\n",
    "    try:\n",
    "        forceMagnitude = 1 / magnitudePQ\n",
    "    except ZeroDivisionError:\n",
    "        return 999999\n",
    "    forceDirection = np.cross(PQ, [0, 0, 1]) / magnitudePQ\n",
    "    forceVector = forceMagnitude * forceDirection\n",
    "    return np.dot(forceVector, AB)\n",
    "\n",
    "\n",
    "def integral(A, B, V):\n",
    "    \"\"\"Do the line integral\"\"\"\n",
    "    numberofRectangles = 1000\n",
    "    startingt = 0.0\n",
    "    endingt = 1.0\n",
    "    width = (endingt - startingt) / numberofRectangles\n",
    "    runningSum = 0.0\n",
    "    for i in range(numberofRectangles):\n",
    "        height = f(A, B, V, startingt + i * width)\n",
    "        area = height * width\n",
    "        runningSum += area\n",
    "    return runningSum\n",
    "\n",
    "\n",
    "class Vertex(object):\n",
    "    \"\"\"The three dimensional coordinates of a vertex\"\"\"\n",
    "    def __init__(self, x, y, z):\n",
    "        self.x = x\n",
    "        self.y = y\n",
    "        self.z = z\n",
    "\n",
    "    def __repr__(self):\n",
    "        return str([self.x, self.y, self.z])\n",
    "\n",
    "    def is_blocked(self, faces):\n",
    "        \"\"\"True when this vertex is blocked from view by faces\"\"\"\n",
    "        for face in faces.values():\n",
    "            if face.is_blocking(self):\n",
    "                return True\n",
    "        return False\n",
    "\n",
    "    @staticmethod\n",
    "    def load(filename):\n",
    "        # vertices (vid, x, y, z)\n",
    "        np_vertices = np.loadtxt(filename, delimiter=\"\\t\", skiprows=1,\n",
    "                                 dtype=[('id', 'i4'), ('x', 'f8'), ('y', 'f8'), ('z', 'f8')])\n",
    "        vertices = {}\n",
    "        for id, x, y, z in np_vertices:\n",
    "            vertices[id] = Vertex(x, y, z)\n",
    "        return vertices\n",
    "\n",
    "\n",
    "class Edge(object):\n",
    "    \"\"\"The vertex ID's of two vertices\"\"\"\n",
    "    def __init__(self, v1, v2):\n",
    "        self.v1 = v1\n",
    "        self.v2 = v2\n",
    "\n",
    "    def __repr__(self):\n",
    "        return str([self.v1, self.v2])\n",
    "\n",
    "    @staticmethod\n",
    "    def load(filename, vertices):\n",
    "        # edge vertices (eid, vid, vid)\n",
    "        np_edges = np.loadtxt(filename, delimiter=\"\\t\", skiprows=1, dtype=\"i4,i4,i4\")\n",
    "\n",
    "        edges = {}\n",
    "        for id, v1, v2 in np_edges:\n",
    "            edges[id] = Edge(vertices[v1], vertices[v2])\n",
    "        return edges\n",
    "\n",
    "\n",
    "class Face(object):\n",
    "    ZERO_EQUIVALENCE = 0.00000001\n",
    "\n",
    "    def __init__(self, e1, e2, e3, e4):\n",
    "        self.e1 = e1\n",
    "        self.e2 = e2\n",
    "        self.e3 = e3\n",
    "        self.e4 = e4\n",
    "\n",
    "    def __str__(self):\n",
    "        return str([self.e1, self.e2, self.e3, self.e4])\n",
    "\n",
    "    def is_blocking(self, vertex):\n",
    "        \"\"\"True if the vertex is blocked by this face\n",
    "\n",
    "        Accumulate the integral of each edge in this face with the vertex. If the total is\n",
    "        zero, then the vertex is visible.\n",
    "        \"\"\"\n",
    "        sum = 0.0\n",
    "        for edge in [self.e1, self.e2, self.e3, self.e4]:\n",
    "            if edge is not None:\n",
    "                sum += integral(edge.v1, edge.v2, vertex)\n",
    "        return abs(sum) < Face.ZERO_EQUIVALENCE\n",
    "\n",
    "    @staticmethod\n",
    "    def load(filename, edges):\n",
    "        # face edges (fid, eid, eid, eid, eid)\n",
    "        # if the last edge is null indicate with a -1 edge id\n",
    "        convertfunc = lambda x: -1 if x == b'NULL' else x\n",
    "        np_faceedges = np.loadtxt(filename, delimiter=\"\\t\", skiprows=1,\n",
    "                                  converters={4: convertfunc},\n",
    "                                  dtype=[('id', 'i4'), ('edge1', 'i4'), ('edge2', 'i4'), ('edge3', 'i4'), ('edge4', 'i4')])\n",
    "\n",
    "        faces = {}\n",
    "        for id, eid1, eid2, eid3, eid4 in np_faceedges:\n",
    "            try:\n",
    "                if eid4 == -1:\n",
    "                    args = edges[eid1], edges[eid2], edges[eid3], None\n",
    "                else:\n",
    "                    args = edges[eid1], edges[eid2], edges[eid3], edges[eid4]\n",
    "                faces[id] = Face(*args)\n",
    "            except KeyError:\n",
    "                #warnings.warn(\"Face %s discarded because not all these edges are known (%s, %s, %s, %s).\" % (id, eid1, eid2, eid3, eid4))\n",
    "                pass\n",
    "        return faces"
   ]
  },
  {
   "cell_type": "code",
   "execution_count": 3,
   "metadata": {
    "collapsed": false
   },
   "outputs": [
    {
     "name": "stdout",
     "output_type": "stream",
     "text": [
      "Loaded 775 vertices, 1520 edges, 752 faces.\n"
     ]
    }
   ],
   "source": [
    "vertices = Vertex.load('../headmesh/NVertices.txt')\n",
    "edges = Edge.load('../headmesh/NEdgeVertices.txt', vertices)\n",
    "faces = Face.load('../headmesh/NFaceEdges.txt', edges)\n",
    "print(\"Loaded %s vertices, %s edges, %s faces.\" % (len(vertices), len(edges), len(faces)))"
   ]
  },
  {
   "cell_type": "code",
   "execution_count": 6,
   "metadata": {
    "collapsed": false
   },
   "outputs": [
    {
     "name": "stdout",
     "output_type": "stream",
     "text": [
      "Vertex:  [1.4822599889999999, -9.4975204469999994, 8.6801795960000003]\n",
      "Edge:  [[1.4822599889999999, -9.4975204469999994, 8.6801795960000003], [1.045789957, -9.7227897639999998, 6.7623200419999998]]\n",
      "Face:  [[[1.4822599889999999, -9.4975204469999994, 8.6801795960000003], [1.045789957, -9.7227897639999998, 6.7623200419999998]], [[2.3399600980000002, -9.1642999649999997, 8.2300500870000004], [1.4822599889999999, -9.4975204469999994, 8.6801795960000003]], [[1.045789957, -9.7227897639999998, 6.7623200419999998], [2.3399600980000002, -9.1642999649999997, 8.2300500870000004]], None]\n"
     ]
    }
   ],
   "source": [
    "print(\"Vertex: \", vertices[0])\n",
    "print(\"Edge: \", edges[0])\n",
    "print(\"Face: \", faces[0])"
   ]
  },
  {
   "cell_type": "code",
   "execution_count": 12,
   "metadata": {
    "collapsed": false
   },
   "outputs": [
    {
     "name": "stdout",
     "output_type": "stream",
     "text": [
      "Vertex\n",
      "[2.8961300849999998, 9.9518299100000007, 8.2101297379999991]\n",
      "Face\n",
      "[[[1.4822599889999999, -9.4975204469999994, 8.6801795960000003], [1.045789957, -9.7227897639999998, 6.7623200419999998]], [[2.3399600980000002, -9.1642999649999997, 8.2300500870000004], [1.4822599889999999, -9.4975204469999994, 8.6801795960000003]], [[1.045789957, -9.7227897639999998, 6.7623200419999998], [2.3399600980000002, -9.1642999649999997, 8.2300500870000004]], None]\n",
      "Is blocking?\n",
      "False\n"
     ]
    }
   ],
   "source": [
    "face = faces[0]\n",
    "vertex = vertices[400]\n",
    "print(\"Vertex\")\n",
    "print(vertex)\n",
    "print(\"Face\")\n",
    "print(face)\n",
    "print(\"This face is blocking this vertex?\")\n",
    "print(face.is_blocking(vertex))"
   ]
  },
  {
   "cell_type": "code",
   "execution_count": 16,
   "metadata": {
    "collapsed": false
   },
   "outputs": [
    {
     "name": "stdout",
     "output_type": "stream",
     "text": [
      "Vertex [2.8961300849999998, 9.9518299100000007, 8.2101297379999991]\n",
      "There are 752 Faces\n",
      "Is this vertex blocked by any one of those faces?\n",
      "False\n"
     ]
    }
   ],
   "source": [
    "vertex = vertices[400]\n",
    "print(\"Vertex\", vertex)\n",
    "print(\"There are %s Faces\" % len(faces))\n",
    "print(\"Is this vertex blocked by any one of those faces?\")\n",
    "print(face.is_blocking(vertex))"
   ]
  },
  {
   "cell_type": "code",
   "execution_count": null,
   "metadata": {
    "collapsed": true
   },
   "outputs": [],
   "source": []
  }
 ],
 "metadata": {
  "kernelspec": {
   "display_name": "Python 3",
   "language": "python",
   "name": "python3"
  },
  "language_info": {
   "codemirror_mode": {
    "name": "ipython",
    "version": 3
   },
   "file_extension": ".py",
   "mimetype": "text/x-python",
   "name": "python",
   "nbconvert_exporter": "python",
   "pygments_lexer": "ipython3",
   "version": "3.4.1"
  }
 },
 "nbformat": 4,
 "nbformat_minor": 0
}
