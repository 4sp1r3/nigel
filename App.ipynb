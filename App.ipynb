{
 "cells": [
  {
   "cell_type": "markdown",
   "metadata": {},
   "source": [
    "# The Triangles App"
   ]
  },
  {
   "cell_type": "code",
   "execution_count": 80,
   "metadata": {
    "collapsed": false
   },
   "outputs": [
    {
     "name": "stdout",
     "output_type": "stream",
     "text": [
      "The autoreload extension is already loaded. To reload it, use:\n",
      "  %reload_ext autoreload\n"
     ]
    }
   ],
   "source": [
    "%matplotlib inline\n",
    "%load_ext autoreload\n",
    "%autoreload 2"
   ]
  },
  {
   "cell_type": "code",
   "execution_count": 35,
   "metadata": {
    "collapsed": true
   },
   "outputs": [],
   "source": [
    "from app import *"
   ]
  },
  {
   "cell_type": "code",
   "execution_count": 96,
   "metadata": {
    "collapsed": false
   },
   "outputs": [],
   "source": [
    "#main()\n",
    "tb = get_toolbox(pset)"
   ]
  },
  {
   "cell_type": "code",
   "execution_count": 98,
   "metadata": {
    "collapsed": false
   },
   "outputs": [
    {
     "name": "stdout",
     "output_type": "stream",
     "text": [
      "gen\tnevals\tavg    \tstd    \tmax    \tmin    \n",
      "0  \t10    \t1776.73\t3.12208\t1780.75\t1770.26\n",
      "1  \t8     \t1781.62\t4.92151\t1787.75\t1770.26\n",
      "2  \t4     \t1781.22\t6.73705\t1791.25\t1770.26\n",
      "3  \t6     \t1783.27\t6.46818\t1790.08\t1770.26\n",
      "4  \t3     \t1782.58\t6.36764\t1791.25\t1770.26\n",
      "5  \t4     \t1785.97\t9.38258\t1801.86\t1770.26\n",
      "6  \t2     \t1780.87\t8.64806\t1795.92\t1770.26\n",
      "7  \t2     \t1779.23\t9.35077\t1797.09\t1770.26\n",
      "8  \t9     \t1797.74\t9.40105\t1804.68\t1770.26\n",
      "9  \t8     \t1805.7 \t4.95997\t1814.71\t1798.26\n",
      "10 \t8     \t1810.36\t7.13671\t1822.31\t1798.26\n"
     ]
    },
    {
     "data": {
      "text/plain": [
       "([[<deap.gp.Primitive at 0x104c39c28>, <deap.gp.Terminal at 0x104c273f0>],\n",
       "  [<deap.gp.Primitive at 0x104c39c28>, <deap.gp.Terminal at 0x104c273f0>],\n",
       "  [<deap.gp.Primitive at 0x104c39c28>, <deap.gp.Terminal at 0x104c273f0>],\n",
       "  [<deap.gp.Primitive at 0x104c39c28>, <deap.gp.Terminal at 0x104c273f0>],\n",
       "  [<deap.gp.Primitive at 0x104c39c28>, <deap.gp.Terminal at 0x104c273f0>],\n",
       "  [<deap.gp.Primitive at 0x104c39c28>, <deap.gp.Terminal at 0x104c273f0>],\n",
       "  [<deap.gp.Primitive at 0x104c39c28>,\n",
       "   <deap.gp.Primitive at 0x104c39c28>,\n",
       "   <deap.gp.Primitive at 0x104c39c28>,\n",
       "   <deap.gp.Terminal at 0x104c273f0>],\n",
       "  [<deap.gp.Primitive at 0x104c39c28>,\n",
       "   <deap.gp.Primitive at 0x104c39c28>,\n",
       "   <deap.gp.Terminal at 0x104c273f0>],\n",
       "  [<deap.gp.Primitive at 0x104c39c28>, <deap.gp.Terminal at 0x104c273f0>],\n",
       "  [<deap.gp.Primitive at 0x104c39c28>, <deap.gp.Terminal at 0x104c273f0>]],\n",
       " [{'avg': 1776.7297944118952,\n",
       "   'gen': 0,\n",
       "   'max': 1780.7546990014937,\n",
       "   'min': 1770.2609165227075,\n",
       "   'nevals': 10,\n",
       "   'std': 3.1220756960864939},\n",
       "  {'avg': 1781.6222112732751,\n",
       "   'gen': 1,\n",
       "   'max': 1787.750381365893,\n",
       "   'min': 1770.2609165227075,\n",
       "   'nevals': 8,\n",
       "   'std': 4.9215069916351064},\n",
       "  {'avg': 1781.2151723203738,\n",
       "   'gen': 2,\n",
       "   'max': 1791.2513749612444,\n",
       "   'min': 1770.2609165227075,\n",
       "   'nevals': 4,\n",
       "   'std': 6.7370546004133187},\n",
       "  {'avg': 1783.2713338947426,\n",
       "   'gen': 3,\n",
       "   'max': 1790.0784693748997,\n",
       "   'min': 1770.2609165227075,\n",
       "   'nevals': 6,\n",
       "   'std': 6.4681779571613918},\n",
       "  {'avg': 1782.5798802694353,\n",
       "   'gen': 4,\n",
       "   'max': 1791.2462397287309,\n",
       "   'min': 1770.2609165227075,\n",
       "   'nevals': 3,\n",
       "   'std': 6.367638552822438},\n",
       "  {'avg': 1785.9674058615503,\n",
       "   'gen': 5,\n",
       "   'max': 1801.8571714897978,\n",
       "   'min': 1770.2609165227075,\n",
       "   'nevals': 4,\n",
       "   'std': 9.382581055723497},\n",
       "  {'avg': 1780.874556025643,\n",
       "   'gen': 6,\n",
       "   'max': 1795.918686402573,\n",
       "   'min': 1770.2609165227075,\n",
       "   'nevals': 2,\n",
       "   'std': 8.648063204653802},\n",
       "  {'avg': 1779.2349158447164,\n",
       "   'gen': 7,\n",
       "   'max': 1797.0871032476612,\n",
       "   'min': 1770.2609165227075,\n",
       "   'nevals': 2,\n",
       "   'std': 9.3507655228488922},\n",
       "  {'avg': 1797.7352894185544,\n",
       "   'gen': 8,\n",
       "   'max': 1804.6846291754939,\n",
       "   'min': 1770.2609165227075,\n",
       "   'nevals': 9,\n",
       "   'std': 9.4010457739219415},\n",
       "  {'avg': 1805.6966216839708,\n",
       "   'gen': 9,\n",
       "   'max': 1814.7129154389563,\n",
       "   'min': 1798.255629463592,\n",
       "   'nevals': 8,\n",
       "   'std': 4.959970437682351},\n",
       "  {'avg': 1810.3647592617149,\n",
       "   'gen': 10,\n",
       "   'max': 1822.314073258332,\n",
       "   'min': 1798.255629463592,\n",
       "   'nevals': 8,\n",
       "   'std': 7.1367142279920639}])"
      ]
     },
     "execution_count": 98,
     "metadata": {},
     "output_type": "execute_result"
    }
   ],
   "source": [
    "pop, logbook = run(tb)"
   ]
  },
  {
   "cell_type": "code",
   "execution_count": 99,
   "metadata": {
    "collapsed": false
   },
   "outputs": [
    {
     "data": {
      "text/plain": [
       "[[<deap.gp.Primitive at 0x11c662b88>,\n",
       "  <deap.gp.Primitive at 0x11c662b88>,\n",
       "  <deap.gp.Primitive at 0x11c662b88>,\n",
       "  <deap.gp.Terminal at 0x11428a798>],\n",
       " [<deap.gp.Primitive at 0x11c662b88>, <deap.gp.Terminal at 0x11428a798>],\n",
       " [<deap.gp.Terminal at 0x11428a798>],\n",
       " [<deap.gp.Primitive at 0x11c662b88>, <deap.gp.Terminal at 0x11428a798>],\n",
       " [<deap.gp.Primitive at 0x11c662b88>, <deap.gp.Terminal at 0x11428a798>],\n",
       " [<deap.gp.Primitive at 0x11c662b88>,\n",
       "  <deap.gp.Primitive at 0x11c662b88>,\n",
       "  <deap.gp.Terminal at 0x11428a798>],\n",
       " [<deap.gp.Terminal at 0x11428a798>],\n",
       " [<deap.gp.Primitive at 0x11c662b88>, <deap.gp.Terminal at 0x11428a798>],\n",
       " [<deap.gp.Primitive at 0x11c662b88>, <deap.gp.Terminal at 0x11428a798>],\n",
       " [<deap.gp.Primitive at 0x11c662b88>, <deap.gp.Terminal at 0x11428a798>]]"
      ]
     },
     "execution_count": 99,
     "metadata": {},
     "output_type": "execute_result"
    }
   ],
   "source": [
    "pop"
   ]
  },
  {
   "cell_type": "code",
   "execution_count": 101,
   "metadata": {
    "collapsed": false
   },
   "outputs": [
    {
     "data": {
      "text/plain": [
       "199.11354055397231"
      ]
     },
     "execution_count": 101,
     "metadata": {},
     "output_type": "execute_result"
    }
   ],
   "source": [
    "pop[0].fitness.values[0]"
   ]
  },
  {
   "cell_type": "code",
   "execution_count": 103,
   "metadata": {
    "collapsed": false
   },
   "outputs": [
    {
     "name": "stdout",
     "output_type": "stream",
     "text": [
      "28.5004003038 translation(triangle_arg)\n",
      "193.895999331 translation(triangle_arg)\n",
      "199.113540554 translation(translation(translation(triangle_arg)))\n",
      "206.925365261 translation(triangle_arg)\n",
      "220.417805862 translation(triangle_arg)\n",
      "230.522176465 translation(triangle_arg)\n",
      "257.273592767 triangle_arg\n",
      "298.219403632 translation(triangle_arg)\n",
      "310.054488665 triangle_arg\n",
      "317.582050488 translation(translation(triangle_arg))\n"
     ]
    }
   ],
   "source": [
    "for i in sorted(pop, key=lambda i: i.fitness.values[0]):\n",
    "   print(i.fitness.values[0], i)"
   ]
  },
  {
   "cell_type": "code",
   "execution_count": null,
   "metadata": {
    "collapsed": true
   },
   "outputs": [],
   "source": []
  }
 ],
 "metadata": {
  "kernelspec": {
   "display_name": "Python 3",
   "language": "python",
   "name": "python3"
  },
  "language_info": {
   "codemirror_mode": {
    "name": "ipython",
    "version": 3
   },
   "file_extension": ".py",
   "mimetype": "text/x-python",
   "name": "python",
   "nbconvert_exporter": "python",
   "pygments_lexer": "ipython3",
   "version": "3.4.1"
  }
 },
 "nbformat": 4,
 "nbformat_minor": 0
}
