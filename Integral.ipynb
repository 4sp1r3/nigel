{
 "cells": [
  {
   "cell_type": "code",
   "execution_count": 1,
   "metadata": {
    "collapsed": true
   },
   "outputs": [],
   "source": [
    "import numpy as np\n",
    "import math"
   ]
  },
  {
   "cell_type": "code",
   "execution_count": 20,
   "metadata": {
    "collapsed": true
   },
   "outputs": [],
   "source": [
    "numberofRectangles = 10000\n",
    "\n",
    "\n",
    "def f(A, B, V, t):\n",
    "    PQ = [\n",
    "        V[0] - (A[0] + ((B[0] - A[0]) * t)),\n",
    "        V[1]- (A[1] + ((B[1] - A[1]) * t)),\n",
    "        0\n",
    "    ]\n",
    "    numerator = np.dot(np.cross(PQ, [0,0,1]), [B[0]-A[0], B[1]-A[1], B[2]-A[2]])\n",
    "    denominator = np.linalg.norm(PQ, 0) ** 2.0\n",
    "    return numerator / denominator\n",
    "\n",
    "\n",
    "def integral(A, B, V):\n",
    "    \"\"\"Do the line integral\"\"\"\n",
    "    startingt = 0.0\n",
    "    endingt = 1.0\n",
    "    width = (endingt - startingt) / numberofRectangles\n",
    "    runningSum = 0.0\n",
    "    for i in range(numberofRectangles):\n",
    "        height = f(A,B,V, startingt + i * width)\n",
    "        area = height * width\n",
    "        runningSum += area\n",
    "    factor = 1 / np.linalg.norm(B - A)\n",
    "    return factor * runningSum\n"
   ]
  },
  {
   "cell_type": "code",
   "execution_count": 21,
   "metadata": {
    "collapsed": false
   },
   "outputs": [
    {
     "name": "stdout",
     "output_type": "stream",
     "text": [
      "0.2038 + 0.6111 + 0.3685 = 1.1834\n"
     ]
    }
   ],
   "source": [
    "A = np.array([7, 1, -3])\n",
    "B = np.array([-5, 9, 0])\n",
    "C = np.array([-2, 2, 8])\n",
    "V = np.array([1, 4, -8])\n",
    "\n",
    "AB = integral(A,B,V)\n",
    "BC = integral(B,C,V)\n",
    "CA = integral(C,A,V)\n",
    "ABBCCAV = AB + BC + CA\n",
    "\n",
    "print(\"%.4f + %.4f + %.4f = %.4f\" % (AB, BC, CA, ABBCCAV))"
   ]
  },
  {
   "cell_type": "code",
   "execution_count": 13,
   "metadata": {
    "collapsed": false
   },
   "outputs": [
    {
     "name": "stdout",
     "output_type": "stream",
     "text": [
      "0.2038 + 0.6111 + 0.3685 = 1.3159\n"
     ]
    }
   ],
   "source": [
    "V = np.array([1, 10, -8])\n",
    "ABBCCAV = integral(A,B,V) + integral(B,C,V) + integral(C,A,V)\n",
    "\n",
    "print(\"%.4f + %.4f + %.4f = %.4f\" % (AB, BC, CA, ABBCCAV))"
   ]
  },
  {
   "cell_type": "code",
   "execution_count": 30,
   "metadata": {
    "collapsed": false
   },
   "outputs": [
    {
     "name": "stdout",
     "output_type": "stream",
     "text": [
      "y: 0, i: 1.0003\n",
      "y: 1, i: 0.7502\n",
      "y: 2, i: 0.5001\n",
      "y: 3, i: 0.2501\n",
      "y: 4, i: nan\n",
      "y: 5, i: -0.2501\n",
      "y: 6, i: -0.5001\n",
      "y: 7, i: -0.7502\n",
      "y: 8, i: -1.0003\n"
     ]
    },
    {
     "name": "stderr",
     "output_type": "stream",
     "text": [
      "/home/john/nigel/venv/lib/python3.4/site-packages/IPython/kernel/__main__.py:12: RuntimeWarning: invalid value encountered in double_scalars\n"
     ]
    }
   ],
   "source": [
    "for y in range(0, 9):\n",
    "    A = np.array([0, y, 0])\n",
    "    B = np.array([2, y, 0])\n",
    "    print(\"y: %s, i: %.4f\" % (y, integral(A,B,V)))"
   ]
  },
  {
   "cell_type": "code",
   "execution_count": null,
   "metadata": {
    "collapsed": true
   },
   "outputs": [],
   "source": []
  }
 ],
 "metadata": {
  "kernelspec": {
   "display_name": "Python 3",
   "language": "python",
   "name": "python3"
  },
  "language_info": {
   "codemirror_mode": {
    "name": "ipython",
    "version": 3
   },
   "file_extension": ".py",
   "mimetype": "text/x-python",
   "name": "python",
   "nbconvert_exporter": "python",
   "pygments_lexer": "ipython3",
   "version": "3.4.1"
  }
 },
 "nbformat": 4,
 "nbformat_minor": 0
}
