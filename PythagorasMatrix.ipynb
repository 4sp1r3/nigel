{
 "cells": [
  {
   "cell_type": "markdown",
   "metadata": {},
   "source": [
    "# Pythagoras via Matrix"
   ]
  },
  {
   "cell_type": "code",
   "execution_count": 1,
   "metadata": {
    "collapsed": true
   },
   "outputs": [],
   "source": [
    "%matplotlib inline\n",
    "import math\n",
    "import random\n",
    "import operator\n",
    "import warnings\n",
    "import numpy as np\n",
    "\n",
    "from geneticprogramming import Baseset\n",
    "from geneticprogramming import Individual\n",
    "from geneticprogramming import Population\n",
    "\n",
    "warnings.filterwarnings(\"ignore\")"
   ]
  },
  {
   "cell_type": "markdown",
   "metadata": {},
   "source": [
    "## Training data \n",
    "\n",
    "* a number of random matrices (2D floating points) on a plane"
   ]
  },
  {
   "cell_type": "code",
   "execution_count": 2,
   "metadata": {
    "collapsed": true
   },
   "outputs": [],
   "source": [
    "SAMPLE_SIZE = 50\n",
    "PLANE_SIZE = 20.0\n",
    "RANDOMPOINTS = [PLANE_SIZE * np.random.random_sample((1, 2)) for _ in range(SAMPLE_SIZE)]"
   ]
  },
  {
   "cell_type": "markdown",
   "metadata": {},
   "source": [
    "## Base functions\n",
    "\n",
    "* _get_ a value at a location from a matrix\n",
    "* an _ephemeral integer_ - either 0 or 1\n",
    "* _addition_ and _subtraction_ of floats\n",
    "* _square_ and _square root_ of floats"
   ]
  },
  {
   "cell_type": "code",
   "execution_count": 3,
   "metadata": {
    "collapsed": false
   },
   "outputs": [],
   "source": [
    "def getValue(ndarray, idx):\n",
    "    \"\"\"Return the indexed value from the 1x2 numpy array\"\"\"\n",
    "    return ndarray[0][idx]\n",
    "\n",
    "square = lambda x: x ** 2\n",
    "sqrt = lambda x: math.sqrt(abs(x))\n",
    "\n",
    "bset = Baseset()\n",
    "bset.add_ephemeral('E', lambda: random.randint(0, 1), int)\n",
    "bset.add_primitive(getValue, [np.ndarray, int], float, name=\"get\")\n",
    "bset.add_primitive(operator.add, [float, float], float, name=\"add\")\n",
    "bset.add_primitive(operator.sub, [float, float], float, name=\"sub\")\n",
    "bset.add_primitive(square, [float], float, name=\"square\")\n",
    "bset.add_primitive(sqrt, [float], float, name=\"sqrt\")"
   ]
  },
  {
   "cell_type": "markdown",
   "metadata": {},
   "source": [
    "## Individuals\n",
    "* consume a matrix (a 1x2 array of floats - x and y coordinates)\n",
    "* return a float (the distance from the origin)\n",
    "* scored by accumulating the error when applying the Training data"
   ]
  },
  {
   "cell_type": "code",
   "execution_count": 4,
   "metadata": {
    "collapsed": true
   },
   "outputs": [],
   "source": [
    "Individual.INTYPES = [np.ndarray]\n",
    "Individual.OUTTYPE = float\n",
    "\n",
    "def evaluate(individual):\n",
    "    \"\"\"sum of application of all the random points\"\"\"\n",
    "    program = individual.compile()\n",
    "    score = 0\n",
    "    try:\n",
    "        for point in RANDOMPOINTS:\n",
    "            program_distance = program(point)\n",
    "            true_distance = math.hypot(point[0][0], point[0][1])\n",
    "            score += abs(true_distance - program_distance)\n",
    "    except (OverflowError, RuntimeWarning):\n",
    "        pass\n",
    "    if math.isnan(score) or score == 0:\n",
    "        score = 100000\n",
    "\n",
    "    # accumulate the number of nodes actually used during a run by calling the adfs in the rpb\n",
    "    nodes = 0\n",
    "    for node in individual.trees[-1]:\n",
    "        if node.name[:1] != 'F':\n",
    "            nodes += 1\n",
    "        else:\n",
    "            nodes += len(individual.trees[int(node.name[1])])\n",
    "    modifier = 1 + (-2 ** - (nodes / 250))\n",
    "\n",
    "    return score + modifier,\n",
    "Individual.evaluate = evaluate"
   ]
  },
  {
   "cell_type": "markdown",
   "metadata": {},
   "source": [
    "## Population Evolution"
   ]
  },
  {
   "cell_type": "code",
   "execution_count": null,
   "metadata": {
    "collapsed": false,
    "scrolled": false
   },
   "outputs": [],
   "source": [
    "Population.POPULATION_SIZE = 500       # Number of individuals in a generation\n",
    "Population.MATE_MUTATE_CLONE = (60, 38, 2)   # ratio of individuals to mate, mutate, or clone\n",
    "Population.CLONE_BEST = 10             # Number of best individuals to seed directly into offspring\n",
    "\n",
    "Individual.MAX_ADFS = 4                # The maximum number of ADFs to generate\n",
    "Individual.ADF_NARGS = (1, 5)          # min, max number of input arguments to adfs\n",
    "Individual.GROWTH_TERM_PB = 0.3        # Probability of terminal when growing:\n",
    "Individual.GROWTH_MAX_INIT_DEPTH = 5   # Maximum depth of initial growth\n",
    "Individual.GROWTH_MAX_MUT_DEPTH = 3    # Maximum depth of mutation growth\n",
    "\n",
    "NUM_GENERATIONS = 10\n",
    "\n",
    "population = Population(bset)\n",
    "for generation in range(NUM_GENERATIONS):\n",
    "    population.evolve()"
   ]
  },
  {
   "cell_type": "code",
   "execution_count": null,
   "metadata": {
    "collapsed": false,
    "scrolled": true
   },
   "outputs": [],
   "source": [
    "best = population[0]\n",
    "best.draw()"
   ]
  },
  {
   "cell_type": "code",
   "execution_count": null,
   "metadata": {
    "collapsed": true
   },
   "outputs": [],
   "source": []
  }
 ],
 "metadata": {
  "kernelspec": {
   "display_name": "Python 3",
   "language": "python",
   "name": "python3"
  },
  "language_info": {
   "codemirror_mode": {
    "name": "ipython",
    "version": 3
   },
   "file_extension": ".py",
   "mimetype": "text/x-python",
   "name": "python",
   "nbconvert_exporter": "python",
   "pygments_lexer": "ipython3",
   "version": "3.4.1"
  }
 },
 "nbformat": 4,
 "nbformat_minor": 0
}
