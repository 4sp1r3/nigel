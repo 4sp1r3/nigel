{
 "cells": [
  {
   "cell_type": "code",
   "execution_count": 41,
   "metadata": {
    "collapsed": true
   },
   "outputs": [],
   "source": [
    "import operator\n",
    "import unittest\n",
    "import uuid\n",
    "import random\n",
    "import numpy as np\n",
    "\n",
    "from app.ngp import Baseset\n",
    "from app.ngp import Individual"
   ]
  },
  {
   "cell_type": "code",
   "execution_count": 42,
   "metadata": {
    "collapsed": false
   },
   "outputs": [
    {
     "name": "stdout",
     "output_type": "stream",
     "text": [
      "ADF0 :\n",
      "[<class 'int'>, <class 'int'>, <class 'int'>] -> <class 'int'>\n",
      "add(add(add(add(A1, 6), add(A1, 1)), add(add(A2, A0), A2)), A1)\n",
      "\n",
      "MAIN :\n",
      "[<class 'int'>] -> <class 'int'>\n",
      "ADF0(2, ADF0(4, add(add(3, 6), add(IN0, 10)), IN0), ADF0(add(add(IN0, 9), ADF0(10, 9, IN0)), IN0, ADF0(9, add(8, 0), add(IN0, 9))))\n",
      "\n",
      "M: [[ 0.69717522  0.56871299  0.21830635]]\n",
      "R: [[ 589.40113266  584.90495475  572.64072221]]\n"
     ]
    }
   ],
   "source": [
    "def test_integers():\n",
    "    \"\"\"play with ints\"\"\"\n",
    "    bset = Baseset()\n",
    "    bset.addEphemeralConstant(str(uuid.uuid4()), lambda: np.random.rand(1, 3), np.ndarray)\n",
    "    bset.addEphemeralConstant(str(uuid.uuid4()), lambda: random.randint(0, 10), int)\n",
    "    bset.addPrimitive(operator.add, [int, int], int)\n",
    "\n",
    "    ind = Individual(bset, [int], int)\n",
    "\n",
    "    for tree, pset in ind.routines:\n",
    "        print(pset.name, \":\")\n",
    "        print(pset.ins, '->', pset.ret)\n",
    "        print(tree)\n",
    "        print()\n",
    "\n",
    "    m = np.random.rand(1, 3)\n",
    "    print(\"M:\", m)\n",
    "    print(\"R:\", ind.evaluate(m))\n",
    "\n",
    "test_integers()"
   ]
  },
  {
   "cell_type": "code",
   "execution_count": 40,
   "metadata": {
    "collapsed": false
   },
   "outputs": [
    {
     "name": "stdout",
     "output_type": "stream",
     "text": [
      "MAIN :\n",
      "[<class 'numpy.ndarray'>] -> <class 'numpy.ndarray'>\n",
      "add(array([[ 0.8476992 ,  0.52536864,  0.63570786]]), IN0)\n",
      "\n",
      "M: [[ 0.00402488  0.62034012  0.93049406]]\n"
     ]
    },
    {
     "ename": "TypeError",
     "evalue": "'NoneType' object is not subscriptable",
     "output_type": "error",
     "traceback": [
      "\u001b[1;31m---------------------------------------------------------------------------\u001b[0m",
      "\u001b[1;31mTypeError\u001b[0m                                 Traceback (most recent call last)",
      "\u001b[1;32m<ipython-input-40-bcb3fcbb304c>\u001b[0m in \u001b[0;36m<module>\u001b[1;34m()\u001b[0m\n\u001b[0;32m     17\u001b[0m     \u001b[0mprint\u001b[0m\u001b[1;33m(\u001b[0m\u001b[1;34m\"R:\"\u001b[0m\u001b[1;33m,\u001b[0m \u001b[0mind\u001b[0m\u001b[1;33m.\u001b[0m\u001b[0mevaluate\u001b[0m\u001b[1;33m(\u001b[0m\u001b[0mm\u001b[0m\u001b[1;33m)\u001b[0m\u001b[1;33m)\u001b[0m\u001b[1;33m\u001b[0m\u001b[0m\n\u001b[0;32m     18\u001b[0m \u001b[1;33m\u001b[0m\u001b[0m\n\u001b[1;32m---> 19\u001b[1;33m \u001b[0mtest_matrix\u001b[0m\u001b[1;33m(\u001b[0m\u001b[1;33m)\u001b[0m\u001b[1;33m\u001b[0m\u001b[0m\n\u001b[0m",
      "\u001b[1;32m<ipython-input-40-bcb3fcbb304c>\u001b[0m in \u001b[0;36mtest_matrix\u001b[1;34m()\u001b[0m\n\u001b[0;32m     15\u001b[0m     \u001b[0mm\u001b[0m \u001b[1;33m=\u001b[0m \u001b[0mnp\u001b[0m\u001b[1;33m.\u001b[0m\u001b[0mrandom\u001b[0m\u001b[1;33m.\u001b[0m\u001b[0mrand\u001b[0m\u001b[1;33m(\u001b[0m\u001b[1;36m1\u001b[0m\u001b[1;33m,\u001b[0m \u001b[1;36m3\u001b[0m\u001b[1;33m)\u001b[0m\u001b[1;33m\u001b[0m\u001b[0m\n\u001b[0;32m     16\u001b[0m     \u001b[0mprint\u001b[0m\u001b[1;33m(\u001b[0m\u001b[1;34m\"M:\"\u001b[0m\u001b[1;33m,\u001b[0m \u001b[0mm\u001b[0m\u001b[1;33m)\u001b[0m\u001b[1;33m\u001b[0m\u001b[0m\n\u001b[1;32m---> 17\u001b[1;33m     \u001b[0mprint\u001b[0m\u001b[1;33m(\u001b[0m\u001b[1;34m\"R:\"\u001b[0m\u001b[1;33m,\u001b[0m \u001b[0mind\u001b[0m\u001b[1;33m.\u001b[0m\u001b[0mevaluate\u001b[0m\u001b[1;33m(\u001b[0m\u001b[0mm\u001b[0m\u001b[1;33m)\u001b[0m\u001b[1;33m)\u001b[0m\u001b[1;33m\u001b[0m\u001b[0m\n\u001b[0m\u001b[0;32m     18\u001b[0m \u001b[1;33m\u001b[0m\u001b[0m\n\u001b[0;32m     19\u001b[0m \u001b[0mtest_matrix\u001b[0m\u001b[1;33m(\u001b[0m\u001b[1;33m)\u001b[0m\u001b[1;33m\u001b[0m\u001b[0m\n",
      "\u001b[1;32m/home/john/nigel/src/app/ngp.py\u001b[0m in \u001b[0;36mevaluate\u001b[1;34m(self, *args)\u001b[0m\n\u001b[0;32m    170\u001b[0m         \u001b[0mtrees\u001b[0m\u001b[1;33m,\u001b[0m \u001b[0mpsets\u001b[0m \u001b[1;33m=\u001b[0m \u001b[0mzip\u001b[0m\u001b[1;33m(\u001b[0m\u001b[1;33m*\u001b[0m\u001b[0mself\u001b[0m\u001b[1;33m.\u001b[0m\u001b[0mroutines\u001b[0m\u001b[1;33m)\u001b[0m\u001b[1;33m\u001b[0m\u001b[0m\n\u001b[0;32m    171\u001b[0m         \u001b[0mfunc\u001b[0m \u001b[1;33m=\u001b[0m \u001b[0mcompileADF\u001b[0m\u001b[1;33m(\u001b[0m\u001b[0mtrees\u001b[0m\u001b[1;33m,\u001b[0m \u001b[0mpsets\u001b[0m\u001b[1;33m)\u001b[0m\u001b[1;33m\u001b[0m\u001b[0m\n\u001b[1;32m--> 172\u001b[1;33m         \u001b[1;32mreturn\u001b[0m \u001b[0mfunc\u001b[0m\u001b[1;33m(\u001b[0m\u001b[1;33m*\u001b[0m\u001b[0margs\u001b[0m\u001b[1;33m)\u001b[0m\u001b[1;33m\u001b[0m\u001b[0m\n\u001b[0m",
      "\u001b[1;32m<string>\u001b[0m in \u001b[0;36m<lambda>\u001b[1;34m(IN0)\u001b[0m\n",
      "\u001b[1;31mTypeError\u001b[0m: 'NoneType' object is not subscriptable"
     ]
    }
   ],
   "source": [
    "def test_matrix():\n",
    "    \"\"\"play with matrixes\"\"\"\n",
    "    bset = Baseset()\n",
    "    bset.addEphemeralConstant(str(uuid.uuid4()), lambda: np.random.rand(1, 3), np.ndarray)\n",
    "    bset.addPrimitive(operator.add, [np.ndarray, np.ndarray], np.ndarray)\n",
    "\n",
    "    ind = Individual(bset, [np.ndarray], np.ndarray)\n",
    "\n",
    "    for tree, pset in ind.routines:\n",
    "        print(pset.name, \":\")\n",
    "        print(pset.ins, '->', pset.ret)\n",
    "        print(tree)\n",
    "        print()\n",
    "\n",
    "    m = np.random.rand(1, 3)\n",
    "    print(\"M:\", m)\n",
    "    print(\"R:\", ind.evaluate(m))\n",
    "\n",
    "test_matrix()"
   ]
  },
  {
   "cell_type": "code",
   "execution_count": null,
   "metadata": {
    "collapsed": true
   },
   "outputs": [],
   "source": []
  }
 ],
 "metadata": {
  "kernelspec": {
   "display_name": "Python 3",
   "language": "python",
   "name": "python3"
  },
  "language_info": {
   "codemirror_mode": {
    "name": "ipython",
    "version": 3
   },
   "file_extension": ".py",
   "mimetype": "text/x-python",
   "name": "python",
   "nbconvert_exporter": "python",
   "pygments_lexer": "ipython3",
   "version": "3.4.1"
  }
 },
 "nbformat": 4,
 "nbformat_minor": 0
}
