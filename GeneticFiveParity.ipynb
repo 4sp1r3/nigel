{
 "cells": [
  {
   "cell_type": "markdown",
   "metadata": {},
   "source": [
    "# FiveParity Problem via GeneticProgramming Library"
   ]
  },
  {
   "cell_type": "code",
   "execution_count": 7,
   "metadata": {
    "collapsed": false
   },
   "outputs": [],
   "source": [
    "%matplotlib inline\n",
    "import math\n",
    "import random\n",
    "import operator\n",
    "import warnings\n",
    "import numpy as np\n",
    "\n",
    "from geneticprogramming import Baseset\n",
    "from geneticprogramming import Individual\n",
    "from geneticprogramming import Population\n",
    "\n",
    "warnings.filterwarnings(\"ignore\")"
   ]
  },
  {
   "cell_type": "markdown",
   "metadata": {},
   "source": [
    "## Training data \n",
    "\n",
    "* every permutation of five parity bits and their correct result"
   ]
  },
  {
   "cell_type": "code",
   "execution_count": 8,
   "metadata": {
    "collapsed": true
   },
   "outputs": [],
   "source": [
    "PARITY_FANIN_M = 5\n",
    "PARITY_SIZE_M = 2 ** PARITY_FANIN_M\n",
    "\n",
    "inputs = [None] * PARITY_SIZE_M\n",
    "outputs = [None] * PARITY_SIZE_M\n",
    "\n",
    "for i in range(PARITY_SIZE_M):\n",
    "    inputs[i] = [None] * PARITY_FANIN_M\n",
    "    value = i\n",
    "    dividor = PARITY_SIZE_M\n",
    "    parity = 1\n",
    "    for j in range(PARITY_FANIN_M):\n",
    "        dividor /= 2\n",
    "        if value >= dividor:\n",
    "            inputs[i][j] = 1\n",
    "            parity = int(not parity)\n",
    "            value -= dividor\n",
    "        else:\n",
    "            inputs[i][j] = 0\n",
    "    outputs[i] = parity"
   ]
  },
  {
   "cell_type": "markdown",
   "metadata": {},
   "source": [
    "## Base functions\n",
    "\n",
    "* you can build anything you need with this one function"
   ]
  },
  {
   "cell_type": "code",
   "execution_count": 9,
   "metadata": {
    "collapsed": false
   },
   "outputs": [],
   "source": [
    "def nor(a, b):\n",
    "    return (a | b) ^ 1\n",
    "\n",
    "bset = Baseset()\n",
    "bset.add_primitive(nor, [bool, bool], bool, name=\"nor\")\n"
   ]
  },
  {
   "cell_type": "markdown",
   "metadata": {},
   "source": [
    "## Individuals\n",
    "* consume five input bits\n",
    "* return the parity bit\n",
    "* score by tallying the number of incorrect results (of 2**5=32) and applying a bloat penalty"
   ]
  },
  {
   "cell_type": "code",
   "execution_count": 10,
   "metadata": {
    "collapsed": false
   },
   "outputs": [],
   "source": [
    "Individual.INTYPES = [bool, bool, bool, bool, bool]\n",
    "Individual.OUTTYPE = bool\n",
    "\n",
    "def evaluate(individual):\n",
    "    \"\"\"sum of invalid results plus modifier\"\"\"\n",
    "    program = individual.compile()\n",
    "    score = sum(program(*in_) == out for in_, out in zip(inputs, outputs))\n",
    "    score = max(0, PARITY_SIZE_M - score)\n",
    "\n",
    "    # accumulate the number of nodes actually used during a run by calling the adfs in the rpb\n",
    "    nodes = 0\n",
    "    for node in individual.trees[-1]:\n",
    "        if node.name[:1] != 'F':\n",
    "            nodes += 1\n",
    "        else:\n",
    "            nodes += len(individual.trees[int(node.name[1])])\n",
    "    modifier = 1 + (-2 ** - (nodes / 250))\n",
    "\n",
    "    return score + modifier,\n",
    "\n",
    "Individual.evaluate = evaluate"
   ]
  },
  {
   "cell_type": "markdown",
   "metadata": {},
   "source": [
    "## Population Evolution"
   ]
  },
  {
   "cell_type": "code",
   "execution_count": 12,
   "metadata": {
    "collapsed": false,
    "scrolled": false
   },
   "outputs": [
    {
     "ename": "GrowException",
     "evalue": "Despite trying 50 times unable to grow specified signature [<class 'bool'>, <class 'bool'>, <class 'bool'>, <class 'bool'>, <class 'bool'>] -> <class 'bool'> .",
     "output_type": "error",
     "traceback": [
      "\u001b[1;31m---------------------------------------------------------------------------\u001b[0m",
      "\u001b[1;31mGrowException\u001b[0m                             Traceback (most recent call last)",
      "\u001b[1;32m<ipython-input-12-9a2739590ae6>\u001b[0m in \u001b[0;36m<module>\u001b[1;34m()\u001b[0m\n\u001b[0;32m     12\u001b[0m \u001b[0mMAX_NUMBER_OF_GENERATIONS\u001b[0m \u001b[1;33m=\u001b[0m \u001b[1;36m500\u001b[0m\u001b[1;33m\u001b[0m\u001b[0m\n\u001b[0;32m     13\u001b[0m \u001b[1;33m\u001b[0m\u001b[0m\n\u001b[1;32m---> 14\u001b[1;33m \u001b[0mpopulation\u001b[0m \u001b[1;33m=\u001b[0m \u001b[0mPopulation\u001b[0m\u001b[1;33m(\u001b[0m\u001b[0mbset\u001b[0m\u001b[1;33m)\u001b[0m\u001b[1;33m\u001b[0m\u001b[0m\n\u001b[0m\u001b[0;32m     15\u001b[0m \u001b[1;32mfor\u001b[0m \u001b[0mgen\u001b[0m \u001b[1;32min\u001b[0m \u001b[0mrange\u001b[0m\u001b[1;33m(\u001b[0m\u001b[0mMAX_NUMBER_OF_GENERATIONS\u001b[0m\u001b[1;33m)\u001b[0m\u001b[1;33m:\u001b[0m\u001b[1;33m\u001b[0m\u001b[0m\n\u001b[0;32m     16\u001b[0m     \u001b[0mpopulation\u001b[0m\u001b[1;33m.\u001b[0m\u001b[0mevolve\u001b[0m\u001b[1;33m(\u001b[0m\u001b[1;33m)\u001b[0m\u001b[1;33m\u001b[0m\u001b[0m\n",
      "\u001b[1;32m/home/john/nigel/src/geneticprogramming/Population.py\u001b[0m in \u001b[0;36m__init__\u001b[1;34m(self, bset)\u001b[0m\n\u001b[0;32m     22\u001b[0m     \u001b[1;32mdef\u001b[0m \u001b[0m__init__\u001b[0m\u001b[1;33m(\u001b[0m\u001b[0mself\u001b[0m\u001b[1;33m,\u001b[0m \u001b[0mbset\u001b[0m\u001b[1;33m)\u001b[0m\u001b[1;33m:\u001b[0m\u001b[1;33m\u001b[0m\u001b[0m\n\u001b[0;32m     23\u001b[0m         \u001b[0mself\u001b[0m\u001b[1;33m.\u001b[0m\u001b[0mbset\u001b[0m \u001b[1;33m=\u001b[0m \u001b[0mbset\u001b[0m\u001b[1;33m\u001b[0m\u001b[0m\n\u001b[1;32m---> 24\u001b[1;33m         \u001b[0mpop\u001b[0m \u001b[1;33m=\u001b[0m \u001b[1;33m[\u001b[0m\u001b[0mPopulation\u001b[0m\u001b[1;33m.\u001b[0m\u001b[0mINDIVIDUAL_CLASS\u001b[0m\u001b[1;33m(\u001b[0m\u001b[0mself\u001b[0m\u001b[1;33m.\u001b[0m\u001b[0mbset\u001b[0m\u001b[1;33m)\u001b[0m \u001b[1;32mfor\u001b[0m \u001b[0m_\u001b[0m \u001b[1;32min\u001b[0m \u001b[0mrange\u001b[0m\u001b[1;33m(\u001b[0m\u001b[0mself\u001b[0m\u001b[1;33m.\u001b[0m\u001b[0mPOPULATION_SIZE\u001b[0m\u001b[1;33m)\u001b[0m\u001b[1;33m]\u001b[0m\u001b[1;33m\u001b[0m\u001b[0m\n\u001b[0m\u001b[0;32m     25\u001b[0m         \u001b[0msuper\u001b[0m\u001b[1;33m(\u001b[0m\u001b[0mPopulation\u001b[0m\u001b[1;33m,\u001b[0m \u001b[0mself\u001b[0m\u001b[1;33m)\u001b[0m\u001b[1;33m.\u001b[0m\u001b[0m__init__\u001b[0m\u001b[1;33m(\u001b[0m\u001b[0mpop\u001b[0m\u001b[1;33m)\u001b[0m\u001b[1;33m\u001b[0m\u001b[0m\n\u001b[0;32m     26\u001b[0m \u001b[1;33m\u001b[0m\u001b[0m\n",
      "\u001b[1;32m/home/john/nigel/src/geneticprogramming/Population.py\u001b[0m in \u001b[0;36m<listcomp>\u001b[1;34m(.0)\u001b[0m\n\u001b[0;32m     22\u001b[0m     \u001b[1;32mdef\u001b[0m \u001b[0m__init__\u001b[0m\u001b[1;33m(\u001b[0m\u001b[0mself\u001b[0m\u001b[1;33m,\u001b[0m \u001b[0mbset\u001b[0m\u001b[1;33m)\u001b[0m\u001b[1;33m:\u001b[0m\u001b[1;33m\u001b[0m\u001b[0m\n\u001b[0;32m     23\u001b[0m         \u001b[0mself\u001b[0m\u001b[1;33m.\u001b[0m\u001b[0mbset\u001b[0m \u001b[1;33m=\u001b[0m \u001b[0mbset\u001b[0m\u001b[1;33m\u001b[0m\u001b[0m\n\u001b[1;32m---> 24\u001b[1;33m         \u001b[0mpop\u001b[0m \u001b[1;33m=\u001b[0m \u001b[1;33m[\u001b[0m\u001b[0mPopulation\u001b[0m\u001b[1;33m.\u001b[0m\u001b[0mINDIVIDUAL_CLASS\u001b[0m\u001b[1;33m(\u001b[0m\u001b[0mself\u001b[0m\u001b[1;33m.\u001b[0m\u001b[0mbset\u001b[0m\u001b[1;33m)\u001b[0m \u001b[1;32mfor\u001b[0m \u001b[0m_\u001b[0m \u001b[1;32min\u001b[0m \u001b[0mrange\u001b[0m\u001b[1;33m(\u001b[0m\u001b[0mself\u001b[0m\u001b[1;33m.\u001b[0m\u001b[0mPOPULATION_SIZE\u001b[0m\u001b[1;33m)\u001b[0m\u001b[1;33m]\u001b[0m\u001b[1;33m\u001b[0m\u001b[0m\n\u001b[0m\u001b[0;32m     25\u001b[0m         \u001b[0msuper\u001b[0m\u001b[1;33m(\u001b[0m\u001b[0mPopulation\u001b[0m\u001b[1;33m,\u001b[0m \u001b[0mself\u001b[0m\u001b[1;33m)\u001b[0m\u001b[1;33m.\u001b[0m\u001b[0m__init__\u001b[0m\u001b[1;33m(\u001b[0m\u001b[0mpop\u001b[0m\u001b[1;33m)\u001b[0m\u001b[1;33m\u001b[0m\u001b[0m\n\u001b[0;32m     26\u001b[0m \u001b[1;33m\u001b[0m\u001b[0m\n",
      "\u001b[1;32m/home/john/nigel/src/geneticprogramming/Individual.py\u001b[0m in \u001b[0;36m__init__\u001b[1;34m(self, baseset)\u001b[0m\n\u001b[0;32m     78\u001b[0m \u001b[1;33m\u001b[0m\u001b[0m\n\u001b[0;32m     79\u001b[0m         \u001b[1;31m# generate the RPB\u001b[0m\u001b[1;33m\u001b[0m\u001b[1;33m\u001b[0m\u001b[0m\n\u001b[1;32m---> 80\u001b[1;33m         \u001b[0mself\u001b[0m\u001b[1;33m.\u001b[0m\u001b[0madd_function\u001b[0m\u001b[1;33m(\u001b[0m\u001b[1;34m\"MAIN\"\u001b[0m\u001b[1;33m,\u001b[0m \u001b[0mself\u001b[0m\u001b[1;33m.\u001b[0m\u001b[0mINTYPES\u001b[0m\u001b[1;33m,\u001b[0m \u001b[0mself\u001b[0m\u001b[1;33m.\u001b[0m\u001b[0mOUTTYPE\u001b[0m\u001b[1;33m,\u001b[0m \u001b[0mprefix\u001b[0m\u001b[1;33m=\u001b[0m\u001b[1;34m'IN'\u001b[0m\u001b[1;33m)\u001b[0m\u001b[1;33m\u001b[0m\u001b[0m\n\u001b[0m\u001b[0;32m     81\u001b[0m \u001b[1;33m\u001b[0m\u001b[0m\n\u001b[0;32m     82\u001b[0m         \u001b[1;31m# attach a fitness\u001b[0m\u001b[1;33m\u001b[0m\u001b[1;33m\u001b[0m\u001b[0m\n",
      "\u001b[1;32m/home/john/nigel/src/geneticprogramming/Individual.py\u001b[0m in \u001b[0;36madd_function\u001b[1;34m(self, name, intypes, outtype, prefix)\u001b[0m\n\u001b[0;32m    246\u001b[0m                     \u001b[1;31m# otherwise abort\u001b[0m\u001b[1;33m\u001b[0m\u001b[1;33m\u001b[0m\u001b[0m\n\u001b[0;32m    247\u001b[0m                     raise GrowException(\"Despite trying %s times unable to grow specified signature %s -> %s .\" %\n\u001b[1;32m--> 248\u001b[1;33m                                         (self.GROWTH_MAX_ATTEMPTS, intypes, outtype))\n\u001b[0m\u001b[0;32m    249\u001b[0m         \u001b[1;32melse\u001b[0m\u001b[1;33m:\u001b[0m\u001b[1;33m\u001b[0m\u001b[0m\n\u001b[0;32m    250\u001b[0m             \u001b[1;31m# we tried but no valid tree could be grown\u001b[0m\u001b[1;33m\u001b[0m\u001b[1;33m\u001b[0m\u001b[0m\n",
      "\u001b[1;31mGrowException\u001b[0m: Despite trying 50 times unable to grow specified signature [<class 'bool'>, <class 'bool'>, <class 'bool'>, <class 'bool'>, <class 'bool'>] -> <class 'bool'> ."
     ]
    }
   ],
   "source": [
    "# run the evolution\n",
    "Population.POPULATION_SIZE = 500  # Number of individuals in a generation\n",
    "Population.MATE_MUTATE_CLONE = (70, 25, 5)  # ratio of individuals to mate, mutate, or clone\n",
    "Population.CLONE_BEST = 2  # Number of best individuals to seed directly into offspring\n",
    "\n",
    "Individual.MAX_ADFS = 3  # The maximum number of ADFs to generate\n",
    "Individual.ADF_NARGS = (1, 5)  # min, max number of input arguments to adfs\n",
    "Individual.GROWTH_TERM_PB = 0.3  # Probability of terminal when growing:\n",
    "Individual.GROWTH_MAX_INIT_DEPTH = 8  # Maximum depth of initial growth\n",
    "Individual.GROWTH_MAX_MUT_DEPTH = 5  # Maximum depth of mutation growth\n",
    "\n",
    "MAX_NUMBER_OF_GENERATIONS = 500\n",
    "\n",
    "population = Population(bset)\n",
    "for gen in range(MAX_NUMBER_OF_GENERATIONS):\n",
    "    population.evolve()\n",
    "    if population[0].fitness.values[0] < 0.5:\n",
    "        break\n",
    "\n",
    "best = population[0]\n",
    "best.draw()"
   ]
  },
  {
   "cell_type": "code",
   "execution_count": null,
   "metadata": {
    "collapsed": true
   },
   "outputs": [],
   "source": []
  }
 ],
 "metadata": {
  "kernelspec": {
   "display_name": "Python 3",
   "language": "python",
   "name": "python3"
  },
  "language_info": {
   "codemirror_mode": {
    "name": "ipython",
    "version": 3
   },
   "file_extension": ".py",
   "mimetype": "text/x-python",
   "name": "python",
   "nbconvert_exporter": "python",
   "pygments_lexer": "ipython3",
   "version": "3.4.1"
  }
 },
 "nbformat": 4,
 "nbformat_minor": 0
}
