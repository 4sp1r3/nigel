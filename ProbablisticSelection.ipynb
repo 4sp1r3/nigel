{
 "cells": [
  {
   "cell_type": "code",
   "execution_count": 1,
   "metadata": {
    "collapsed": true
   },
   "outputs": [],
   "source": [
    "import unittest\n",
    "import random\n",
    "import operator\n",
    "from deap import creator\n",
    "from deap import base\n",
    "from deap import tools\n",
    "from deap import gp\n",
    "from app.custom import ourGrow\n",
    "from app.ourMods import selProbablistic"
   ]
  },
  {
   "cell_type": "markdown",
   "metadata": {},
   "source": [
    "1. Create a minimal primitive set, individual, and toolbox to work with..."
   ]
  },
  {
   "cell_type": "code",
   "execution_count": 2,
   "metadata": {
    "collapsed": false
   },
   "outputs": [],
   "source": [
    "creator.create(\"FitnessMin\", base.Fitness, weights=(-1.0,))\n",
    "creator.create(\"Individual\", gp.PrimitiveTree, fitness=creator.FitnessMin)\n",
    "\n",
    "# the primitive set\n",
    "pset = gp.PrimitiveSetTyped(\n",
    "    \"MAIN\",\n",
    "    [float],\n",
    "    float\n",
    ")\n",
    "pset.addPrimitive(operator.add, [float, float], float, name=\"plus\")\n",
    "pset.addPrimitive(operator.sub, [float, float], float, name=\"minus\")\n",
    "pset.addEphemeralConstant(\"Rfloat\", lambda: random.uniform(0, 10), float)\n",
    "\n",
    "# the toolbox\n",
    "toolbox = base.Toolbox()\n",
    "toolbox.register(\"expr\", ourGrow, pset, max_=2, prob=0.0)\n",
    "toolbox.register(\"individual\", tools.initIterate, creator.Individual, toolbox.expr)\n",
    "toolbox.register(\"population\", tools.initRepeat, list, toolbox.individual)"
   ]
  },
  {
   "cell_type": "markdown",
   "metadata": {},
   "source": [
    "1. Create a population and artifically fix their fitness values to increment by ten: 0, 10, 20...\n",
    "1. Then probablisitically select a lot of them and sort the output.\n",
    "1. The frequency of selection should deteriorate corresponding to fitness."
   ]
  },
  {
   "cell_type": "code",
   "execution_count": 4,
   "metadata": {
    "collapsed": false
   },
   "outputs": [
    {
     "name": "stdout",
     "output_type": "stream",
     "text": [
      "0 \t minus(ARG0, 7.4492635234686775)\n",
      "0 \t minus(ARG0, 7.4492635234686775)\n",
      "0 \t minus(ARG0, 7.4492635234686775)\n",
      "0 \t minus(ARG0, 7.4492635234686775)\n",
      "0 \t minus(ARG0, 7.4492635234686775)\n",
      "0 \t minus(ARG0, 7.4492635234686775)\n",
      "0 \t minus(ARG0, 7.4492635234686775)\n",
      "0 \t minus(ARG0, 7.4492635234686775)\n",
      "1 \t plus(9.508797914899985, 1.9359862345192547)\n",
      "1 \t plus(9.508797914899985, 1.9359862345192547)\n",
      "1 \t plus(9.508797914899985, 1.9359862345192547)\n",
      "1 \t plus(9.508797914899985, 1.9359862345192547)\n",
      "2 \t minus(2.0796756373181493, ARG0)\n",
      "2 \t minus(2.0796756373181493, ARG0)\n",
      "2 \t minus(2.0796756373181493, ARG0)\n",
      "2 \t minus(2.0796756373181493, ARG0)\n",
      "3 \t minus(ARG0, ARG0)\n",
      "3 \t minus(ARG0, ARG0)\n",
      "4 \t plus(0.807170448874146, 0.23628423939933807)\n",
      "5 \t minus(ARG0, ARG0)\n",
      "5 \t minus(ARG0, ARG0)\n",
      "6 \t minus(0.7589754157079454, ARG0)\n",
      "7 \t minus(2.7495049168607055, ARG0)\n",
      "10 \t minus(5.5195328797032905, ARG0)\n",
      "11 \t plus(2.9609472701118733, 6.135821932320436)\n",
      "11 \t plus(2.9609472701118733, 6.135821932320436)\n",
      "13 \t plus(1.2661457206085425, ARG0)\n",
      "13 \t plus(1.2661457206085425, ARG0)\n",
      "15 \t plus(ARG0, ARG0)\n",
      "15 \t plus(ARG0, ARG0)\n",
      "15 \t plus(ARG0, ARG0)\n",
      "18 \t minus(ARG0, 2.4549950340922875)\n",
      "18 \t minus(ARG0, 2.4549950340922875)\n",
      "19 \t plus(3.7499348935820134, 0.5695475918753146)\n",
      "20 \t minus(8.868087044855846, 7.818850368844316)\n",
      "22 \t plus(ARG0, ARG0)\n",
      "25 \t plus(3.0241250120804484, 1.229788242548947)\n",
      "27 \t plus(2.6131462712621802, 4.226957738908286)\n",
      "34 \t minus(ARG0, 3.611378175174708)\n",
      "34 \t minus(ARG0, 3.611378175174708)\n",
      "34 \t minus(ARG0, 3.611378175174708)\n",
      "36 \t plus(8.517586278611578, ARG0)\n",
      "41 \t minus(ARG0, ARG0)\n",
      "50 \t minus(ARG0, ARG0)\n",
      "58 \t minus(8.854625182616392, ARG0)\n",
      "71 \t plus(ARG0, 9.208247362323576)\n",
      "74 \t minus(ARG0, 3.5667343450323297)\n",
      "80 \t minus(8.346024891322731, 0.7601770568093691)\n",
      "86 \t plus(0.29982847899182485, ARG0)\n",
      "88 \t plus(ARG0, 3.821322468095849)\n"
     ]
    }
   ],
   "source": [
    "pop = toolbox.population(n=100)\n",
    "\n",
    "# give them fitnesses 0, 10, 20, 30...\n",
    "for fit, ind in enumerate(pop):\n",
    "    ind.fitness.values = (fit,)\n",
    "\n",
    "# select twenty and sort by fitness\n",
    "for ind in sorted(selProbablistic(pop, 50), key=lambda i:i.fitness.values[0]):\n",
    "    print(int(ind.fitness.values[0]), '\\t', str(ind))\n",
    "\n",
    "# the frequency of individuals should deteriorate as you go down the list"
   ]
  },
  {
   "cell_type": "code",
   "execution_count": null,
   "metadata": {
    "collapsed": true
   },
   "outputs": [],
   "source": []
  }
 ],
 "metadata": {
  "kernelspec": {
   "display_name": "Python 3",
   "language": "python",
   "name": "python3"
  },
  "language_info": {
   "codemirror_mode": {
    "name": "ipython",
    "version": 3
   },
   "file_extension": ".py",
   "mimetype": "text/x-python",
   "name": "python",
   "nbconvert_exporter": "python",
   "pygments_lexer": "ipython3",
   "version": "3.4.1"
  }
 },
 "nbformat": 4,
 "nbformat_minor": 0
}
