{
 "cells": [
  {
   "cell_type": "code",
   "execution_count": 18,
   "metadata": {
    "collapsed": false,
    "scrolled": true
   },
   "outputs": [
    {
     "name": "stdout",
     "output_type": "stream",
     "text": [
      "inner J 1 lastj 1 lastj2 1\n",
      "inner J 2 lastj 2 lastj2 1\n",
      "inner J 3 lastj 3 lastj2 2\n",
      "inner J 4 lastj 5 lastj2 3\n",
      "inner J 5 lastj 8 lastj2 5\n",
      "inner J 6 lastj 13 lastj2 8\n",
      "inner J 7 lastj 21 lastj2 13\n",
      "inner J 8 lastj 34 lastj2 21\n",
      "inner J 9 lastj 55 lastj2 34\n",
      "inner J 10 lastj 89 lastj2 55\n",
      "inner J 11 lastj 144 lastj2 89\n",
      "inner J 12 lastj 233 lastj2 144\n",
      "inner J 13 lastj 377 lastj2 233\n",
      "inner J 14 lastj 610 lastj2 377\n",
      "inner J 15 lastj 987 lastj2 610\n",
      "inner J 16 lastj 1597 lastj2 987\n",
      "inner J 17 lastj 2584 lastj2 1597\n",
      "inner J 18 lastj 4181 lastj2 2584\n",
      "inner J 19 lastj 6765 lastj2 4181\n",
      "inner J 20 lastj 10946 lastj2 6765\n",
      "inner J 21 lastj 17711 lastj2 10946\n",
      "inner J 22 lastj 28657 lastj2 17711\n",
      "inner J 23 lastj 46368 lastj2 28657\n",
      "inner J 24 lastj 75025 lastj2 46368\n",
      "inner J 25 lastj 121393 lastj2 75025\n",
      "inner J 26 lastj 196418 lastj2 121393\n",
      "inner J 27 lastj 317811 lastj2 196418\n",
      "inner J 28 lastj 514229 lastj2 317811\n",
      "inner J 29 lastj 832040 lastj2 514229\n",
      "inner J 30 lastj 1346269 lastj2 832040\n",
      "inner J 31 lastj 2178309 lastj2 1346269\n",
      "inner J 32 lastj 3524578 lastj2 2178309\n",
      "inner J 33 lastj 5702887 lastj2 3524578\n",
      "inner J 34 lastj 9227465 lastj2 5702887\n",
      "inner J 35 lastj 14930352 lastj2 9227465\n",
      "inner J 36 lastj 24157817 lastj2 14930352\n",
      "inner J 37 lastj 39088169 lastj2 24157817\n",
      "inner J 38 lastj 63245986 lastj2 39088169\n",
      "inner J 39 lastj 102334155 lastj2 63245986\n",
      "inner J 40 lastj 165580141 lastj2 102334155\n",
      "inner J 41 lastj 267914296 lastj2 165580141\n",
      "inner J 42 lastj 433494437 lastj2 267914296\n",
      "inner J 43 lastj 701408733 lastj2 433494437\n",
      "inner J 44 lastj 1134903170 lastj2 701408733\n",
      "inner J 45 lastj 1836311903 lastj2 1134903170\n",
      "inner J 46 lastj 2971215073 lastj2 1836311903\n",
      "inner J 47 lastj 4807526976 lastj2 2971215073\n",
      "inner J 48 lastj 7778742049 lastj2 4807526976\n",
      "inner J 49 lastj 12586269025 lastj2 7778742049\n",
      "inner J 50 lastj 20365011074 lastj2 12586269025\n",
      "inner J 51 lastj 32951280099 lastj2 20365011074\n",
      "[1, 2, 3, 5, 8, 13, 21, 34, 55, 89, 144, 233, 377, 610, 987, 1597, 2584, 4181, 6765, 10946, 17711, 28657, 46368, 75025, 121393, 196418, 317811, 514229, 832040, 1346269, 2178309, 3524578, 5702887, 9227465, 14930352, 24157817, 39088169, 63245986, 102334155, 165580141, 267914296, 433494437, 701408733, 1134903170, 1836311903, 2971215073, 4807526976, 7778742049, 12586269025, 20365011074, 32951280099, 0, 0, 0, 0, 0, 0, 0, 0, 0]\n",
      "Outer J 20\n"
     ]
    }
   ],
   "source": [
    "def greaterthan(variable, value):\n",
    "    return variable > value\n",
    "\n",
    "\n",
    "m = [0] * 60\n",
    "j = 20\n",
    "\n",
    "def do(number):\n",
    "    lastj2 = 0\n",
    "    lastj = 1\n",
    "\n",
    "    j = 0\n",
    "    while not greaterthan(j, number):\n",
    "        m[j] = lastj + lastj2\n",
    "        lastj2 = lastj\n",
    "        lastj = m[j]\n",
    "        j += 1\n",
    "        print(\"inner J\", j, \"lastj\", lastj, \"lastj2\", lastj2)\n",
    "\n",
    "do(50)\n",
    "print(m)\n",
    "print(\"Outer J\", j)\n"
   ]
  },
  {
   "cell_type": "code",
   "execution_count": 15,
   "metadata": {
    "collapsed": false
   },
   "outputs": [
    {
     "name": "stdout",
     "output_type": "stream",
     "text": [
      "1\n",
      "2\n",
      "3\n",
      "5\n",
      "8\n",
      "13\n",
      "21\n",
      "34\n",
      "55\n",
      "89\n",
      "144\n",
      "233\n",
      "377\n",
      "610\n",
      "987\n",
      "1597\n",
      "2584\n",
      "4181\n",
      "6765\n",
      "10946\n",
      "17711\n",
      "28657\n",
      "46368\n",
      "75025\n",
      "121393\n",
      "196418\n",
      "317811\n",
      "514229\n",
      "832040\n",
      "1346269\n",
      "2178309\n",
      "3524578\n",
      "5702887\n",
      "9227465\n",
      "14930352\n",
      "24157817\n",
      "39088169\n",
      "63245986\n",
      "102334155\n",
      "165580141\n",
      "267914296\n",
      "433494437\n",
      "701408733\n",
      "1134903170\n",
      "1836311903\n",
      "2971215073\n",
      "4807526976\n",
      "7778742049\n",
      "12586269025\n",
      "20365011074\n",
      "[0, 0, 0, 0, 0, 0, 0, 0, 0, 0, 0, 0, 0, 0, 0, 0, 0, 0, 0, 0, 0, 0, 0, 0, 0, 0, 0, 0, 0, 0, 0, 0, 0, 0, 0, 0, 0, 0, 0, 0, 0, 0, 0, 0, 0, 0, 0, 0, 0, 0, 0, 0, 0, 0, 0, 0, 0, 0, 0, 0]\n"
     ]
    }
   ],
   "source": [
    "m = [0] * 60\n",
    "j = 20\n",
    "\n",
    "def fib(number):\n",
    "    lastnum = 0\n",
    "    thisnum = 1\n",
    "    \n",
    "    for i in range(0, number):\n",
    "        nextnum = thisnum + lastnum\n",
    "        lastnum = thisnum\n",
    "        thisnum = nextnum\n",
    "        print(thisnum)\n",
    "\n",
    "fib(50)\n"
   ]
  },
  {
   "cell_type": "code",
   "execution_count": null,
   "metadata": {
    "collapsed": true
   },
   "outputs": [],
   "source": []
  }
 ],
 "metadata": {
  "kernelspec": {
   "display_name": "Python 3",
   "language": "python",
   "name": "python3"
  },
  "language_info": {
   "codemirror_mode": {
    "name": "ipython",
    "version": 3
   },
   "file_extension": ".py",
   "mimetype": "text/x-python",
   "name": "python",
   "nbconvert_exporter": "python",
   "pygments_lexer": "ipython3",
   "version": "3.4.1"
  }
 },
 "nbformat": 4,
 "nbformat_minor": 0
}
