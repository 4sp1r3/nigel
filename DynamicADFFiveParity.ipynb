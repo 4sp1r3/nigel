{
 "cells": [
  {
   "cell_type": "code",
   "execution_count": 1,
   "metadata": {
    "collapsed": false
   },
   "outputs": [],
   "source": [
    "%matplotlib inline\n",
    "from app.ourMods import adfdraw\n",
    "from app.madffiveparity import main"
   ]
  },
  {
   "cell_type": "code",
   "execution_count": null,
   "metadata": {
    "collapsed": false
   },
   "outputs": [
    {
     "name": "stdout",
     "output_type": "stream",
     "text": [
      "Running 50 generations of 1000 individuals with (0, 3) ADFs of (1, 4) arguments.\n",
      "The best 20 are cloned, thence 70% mate, 28% mutate, and 2% clone.\n",
      "Tree growth has a 20% probabilty being a terminal of up to 5 deep on init, then 2 deep on mutate.\n",
      "\n",
      "gen\tavg    \tstd    \tmin    \tmax    \n",
      "0  \t16.2285\t0.48472\t14.0773\t19.8584"
     ]
    }
   ],
   "source": [
    "pop, stats, hof = main(gens=50,\n",
    "                       pop_size=1000,\n",
    "                       adf_range=(0,3),\n",
    "                       adf_nargs=(1,4),\n",
    "                       mmc=(70,28,2),\n",
    "                       best_of_class=20,\n",
    "                       growth=(20,5,2))\n",
    "\n",
    "\n",
    "pop = sorted(pop, key=lambda i: i.fitness.values[0])\n",
    "# draw the best in the final population\n",
    "adfdraw(pop[0])\n",
    "print(\"Current Best\")\n",
    "\n",
    "# draw the worst in the final population\n",
    "adfdraw(pop[-1])\n",
    "print(\"Current Worst\")"
   ]
  },
  {
   "cell_type": "code",
   "execution_count": null,
   "metadata": {
    "collapsed": true
   },
   "outputs": [],
   "source": []
  }
 ],
 "metadata": {
  "kernelspec": {
   "display_name": "Python 3",
   "language": "python",
   "name": "python3"
  },
  "language_info": {
   "codemirror_mode": {
    "name": "ipython",
    "version": 3
   },
   "file_extension": ".py",
   "mimetype": "text/x-python",
   "name": "python",
   "nbconvert_exporter": "python",
   "pygments_lexer": "ipython3",
   "version": "3.4.1"
  }
 },
 "nbformat": 4,
 "nbformat_minor": 0
}
