{
 "cells": [
  {
   "cell_type": "code",
   "execution_count": 1,
   "metadata": {
    "collapsed": false
   },
   "outputs": [],
   "source": [
    "%matplotlib inline\n",
    "from app.ourMods import adfdraw\n",
    "from app.madffiveparity import main"
   ]
  },
  {
   "cell_type": "code",
   "execution_count": 2,
   "metadata": {
    "collapsed": false
   },
   "outputs": [
    {
     "name": "stdout",
     "output_type": "stream",
     "text": [
      "Running 50 generations of 1000 individuals with (0, 3) ADFs of (1, 4) arguments.\n",
      "The best 20 are cloned, thence 70% mate, 28% mutate, and 2% clone.\n",
      "Tree growth has a 20% probabilty being a terminal of up to 5 deep on init, then 2 deep on mutate.\n",
      "\n",
      "gen\tavg    \tstd     \tmin    \tmax    \n",
      "0  \t16.2186\t0.480301\t13.8645\t18.8068\n",
      "1  \t16.2012\t0.549308\t13.8645\t19.699 \n",
      "2  \t16.1622\t0.565512\t13.8645\t18.8645\n",
      "3  \t16.1274\t0.60368 \t11.9842\t18.8645\n",
      "4  \t16.0449\t0.672961\t11.9842\t19.952 \n",
      "5  \t16.0033\t0.744784\t11.9842\t18.0824\n",
      "6  \t15.9892\t0.806028\t11.8653\t18.9813\n",
      "7  \t15.9522\t0.911133\t11.8653\t19.9842\n",
      "8  \t15.8936\t1.02872 \t10.9775\t18.9866\n",
      "9  \t15.8048\t1.18494 \t10.9775\t18.9866\n",
      "10 \t15.6939\t1.39048 \t8.98489\t19.9842\n",
      "11 \t15.6235\t1.6193  \t8.98489\t21.9631\n",
      "12 \t15.5335\t1.76862 \t8.98489\t24.2929\n",
      "13 \t15.5238\t1.91257 \t8.97851\t24.2929\n",
      "14 \t15.4004\t2.09401 \t8.97851\t20.8183\n",
      "15 \t15.1742\t2.36275 \t8.97851\t20.9842\n",
      "16 \t14.9868\t2.56353 \t7.98489\t18.9903\n",
      "17 \t14.8114\t2.76879 \t7.98489\t19.9939\n",
      "18 \t14.5108\t3.01893 \t6.97898\t19.9865\n",
      "19 \t14.2252\t3.22413 \t6.97898\t20.9936\n",
      "20 \t13.8283\t3.43951 \t6.97898\t20.9936\n",
      "21 \t13.5433\t3.59294 \t5.98489\t22.9838\n",
      "22 \t13.3806\t3.72016 \t5.98489\t21.9958\n",
      "23 \t13.3981\t3.83361 \t5.98489\t21.9958\n",
      "24 \t13.0906\t3.95231 \t4.98394\t21.8729\n",
      "25 \t12.8566\t4.0912  \t4.98394\t20.9921\n",
      "26 \t12.6134\t4.32267 \t4.97989\t21.9856\n",
      "27 \t12.301 \t4.4487  \t4.97989\t21.9872\n",
      "28 \t11.8683\t4.48383 \t4.97989\t21.9929\n",
      "29 \t11.7659\t4.62276 \t4.97989\t23.9703\n",
      "30 \t11.1832\t4.71133 \t4.95989\t22.9945\n",
      "31 \t10.9239\t4.84196 \t4.95989\t22.9945\n",
      "32 \t10.6977\t4.93699 \t4.95989\t22.99  \n",
      "33 \t10.6271\t5.00212 \t4.95989\t21.9917\n",
      "34 \t10.436 \t5.00058 \t4.95989\t21.9972\n",
      "35 \t10.4524\t5.13194 \t4.95989\t22.9809\n",
      "36 \t9.99121\t5.08186 \t3.98394\t25.5014\n",
      "37 \t9.76126\t5.01183 \t3.98394\t21.9855\n",
      "38 \t9.90908\t5.15757 \t2.9908 \t22.9912\n",
      "39 \t9.91027\t5.23558 \t2.9908 \t22.9912\n",
      "40 \t9.46207\t5.20402 \t2.9908 \t23.9992\n",
      "41 \t9.2583 \t5.23591 \t2.9908 \t23.9992\n",
      "42 \t9.30674\t5.19368 \t2.98215\t21.9645\n",
      "43 \t9.39707\t5.31676 \t1.99349\t21.9885\n",
      "44 \t8.80526\t5.27673 \t1.9864 \t20.9884\n",
      "45 \t8.47467\t5.44629 \t1.9864 \t24.9867\n",
      "46 \t8.28378\t5.4244  \t1.9864 \t24.9867\n",
      "47 \t7.96477\t5.65595 \t1.9864 \t27.9956\n",
      "48 \t7.71154\t5.7563  \t1.98155\t21.9926\n",
      "49 \t7.23966\t5.77917 \t1.98155\t20.9943\n",
      "50 \t6.83322\t5.71511 \t1.98155\t20.9962\n"
     ]
    },
    {
     "ename": "AttributeError",
     "evalue": "'Individual' object has no attribute 'funcset'",
     "output_type": "error",
     "traceback": [
      "\u001b[1;31m---------------------------------------------------------------------------\u001b[0m",
      "\u001b[1;31mAttributeError\u001b[0m                            Traceback (most recent call last)",
      "\u001b[1;32m<ipython-input-2-5011670b161a>\u001b[0m in \u001b[0;36m<module>\u001b[1;34m()\u001b[0m\n\u001b[0;32m     10\u001b[0m \u001b[0mpop\u001b[0m \u001b[1;33m=\u001b[0m \u001b[0msorted\u001b[0m\u001b[1;33m(\u001b[0m\u001b[0mpop\u001b[0m\u001b[1;33m,\u001b[0m \u001b[0mkey\u001b[0m\u001b[1;33m=\u001b[0m\u001b[1;32mlambda\u001b[0m \u001b[0mi\u001b[0m\u001b[1;33m:\u001b[0m \u001b[0mi\u001b[0m\u001b[1;33m.\u001b[0m\u001b[0mfitness\u001b[0m\u001b[1;33m.\u001b[0m\u001b[0mvalues\u001b[0m\u001b[1;33m[\u001b[0m\u001b[1;36m0\u001b[0m\u001b[1;33m]\u001b[0m\u001b[1;33m)\u001b[0m\u001b[1;33m\u001b[0m\u001b[0m\n\u001b[0;32m     11\u001b[0m \u001b[1;31m# draw the best in the final population\u001b[0m\u001b[1;33m\u001b[0m\u001b[1;33m\u001b[0m\u001b[0m\n\u001b[1;32m---> 12\u001b[1;33m \u001b[0madfdraw\u001b[0m\u001b[1;33m(\u001b[0m\u001b[0mpop\u001b[0m\u001b[1;33m[\u001b[0m\u001b[1;36m0\u001b[0m\u001b[1;33m]\u001b[0m\u001b[1;33m)\u001b[0m\u001b[1;33m\u001b[0m\u001b[0m\n\u001b[0m\u001b[0;32m     13\u001b[0m \u001b[0mprint\u001b[0m\u001b[1;33m(\u001b[0m\u001b[1;34m\"Current Best\"\u001b[0m\u001b[1;33m)\u001b[0m\u001b[1;33m\u001b[0m\u001b[0m\n\u001b[0;32m     14\u001b[0m \u001b[1;33m\u001b[0m\u001b[0m\n",
      "\u001b[1;32m/home/john/nigel/src/app/ourMods.py\u001b[0m in \u001b[0;36madfdraw\u001b[1;34m(individual)\u001b[0m\n\u001b[0;32m    279\u001b[0m     \u001b[0mPROGN\u001b[0m \u001b[1;33m=\u001b[0m \u001b[1;34m'PROGN'\u001b[0m\u001b[1;33m\u001b[0m\u001b[0m\n\u001b[0;32m    280\u001b[0m     \u001b[0mexpr\u001b[0m \u001b[1;33m=\u001b[0m \u001b[1;33m[\u001b[0m\u001b[1;33m]\u001b[0m\u001b[1;33m\u001b[0m\u001b[0m\n\u001b[1;32m--> 281\u001b[1;33m     \u001b[1;32mfor\u001b[0m \u001b[0mnum\u001b[0m\u001b[1;33m,\u001b[0m \u001b[0mbranch\u001b[0m \u001b[1;32min\u001b[0m \u001b[0menumerate\u001b[0m\u001b[1;33m(\u001b[0m\u001b[0mindividual\u001b[0m\u001b[1;33m.\u001b[0m\u001b[0mfuncset\u001b[0m\u001b[1;33m.\u001b[0m\u001b[0mtrees\u001b[0m\u001b[1;33m[\u001b[0m\u001b[1;33m:\u001b[0m\u001b[1;33m-\u001b[0m\u001b[1;36m1\u001b[0m\u001b[1;33m]\u001b[0m\u001b[1;33m)\u001b[0m\u001b[1;33m:\u001b[0m\u001b[1;33m\u001b[0m\u001b[0m\n\u001b[0m\u001b[0;32m    282\u001b[0m         \u001b[0mexpr\u001b[0m \u001b[1;33m=\u001b[0m \u001b[0mexpr\u001b[0m \u001b[1;33m+\u001b[0m \u001b[1;33m[\u001b[0m\u001b[1;34m'F%s'\u001b[0m \u001b[1;33m%\u001b[0m \u001b[0mnum\u001b[0m\u001b[1;33m]\u001b[0m \u001b[1;33m+\u001b[0m \u001b[0mbranch\u001b[0m\u001b[1;33m\u001b[0m\u001b[0m\n\u001b[0;32m    283\u001b[0m     \u001b[0mexpr\u001b[0m \u001b[1;33m+=\u001b[0m \u001b[1;33m[\u001b[0m\u001b[1;34m'RPB'\u001b[0m\u001b[1;33m]\u001b[0m \u001b[1;33m+\u001b[0m \u001b[0mindividual\u001b[0m\u001b[1;33m.\u001b[0m\u001b[0mfuncset\u001b[0m\u001b[1;33m.\u001b[0m\u001b[0mtrees\u001b[0m\u001b[1;33m[\u001b[0m\u001b[1;33m-\u001b[0m\u001b[1;36m1\u001b[0m\u001b[1;33m]\u001b[0m\u001b[1;33m\u001b[0m\u001b[0m\n",
      "\u001b[1;31mAttributeError\u001b[0m: 'Individual' object has no attribute 'funcset'"
     ]
    }
   ],
   "source": [
    "pop, stats, hof = main(gens=50,\n",
    "                       pop_size=1000,\n",
    "                       adf_range=(0,3),\n",
    "                       adf_nargs=(1,4),\n",
    "                       mmc=(70,28,2),\n",
    "                       best_of_class=20,\n",
    "                       growth=(20,5,2))\n",
    "\n",
    "\n",
    "pop = sorted(pop, key=lambda i: i.fitness.values[0])\n",
    "# draw the best in the final population\n",
    "adfdraw(pop[0])\n",
    "print(\"Current Best\")\n",
    "\n",
    "# draw the worst in the final population\n",
    "adfdraw(pop[-1])\n",
    "print(\"Current Worst\")"
   ]
  },
  {
   "cell_type": "code",
   "execution_count": null,
   "metadata": {
    "collapsed": true
   },
   "outputs": [],
   "source": []
  }
 ],
 "metadata": {
  "kernelspec": {
   "display_name": "Python 3",
   "language": "python",
   "name": "python3"
  },
  "language_info": {
   "codemirror_mode": {
    "name": "ipython",
    "version": 3
   },
   "file_extension": ".py",
   "mimetype": "text/x-python",
   "name": "python",
   "nbconvert_exporter": "python",
   "pygments_lexer": "ipython3",
   "version": "3.4.1"
  }
 },
 "nbformat": 4,
 "nbformat_minor": 0
}
